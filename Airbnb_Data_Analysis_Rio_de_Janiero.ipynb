{
  "nbformat": 4,
  "nbformat_minor": 0,
  "metadata": {
    "colab": {
      "provenance": [],
      "include_colab_link": true
    },
    "kernelspec": {
      "name": "python3",
      "display_name": "Python 3"
    }
  },
  "cells": [
    {
      "cell_type": "markdown",
      "metadata": {
        "id": "view-in-github",
        "colab_type": "text"
      },
      "source": [
        "<a href=\"https://colab.research.google.com/github/jaissoncenci/jaissoncenci/blob/main/Airbnb_Data_Analysis_Rio_de_Janiero.ipynb\" target=\"_parent\"><img src=\"https://colab.research.google.com/assets/colab-badge.svg\" alt=\"Open In Colab\"/></a>"
      ]
    },
    {
      "cell_type": "markdown",
      "metadata": {
        "id": "kLI0gJtzDGuQ"
      },
      "source": [
        "# Airbnb Data Analisis - Rio de Janeiro (Brazil)\n",
        "\n",
        "[Airbnb](https://www.airbnb.com.br/) is an American San Francisco-based company operating an online marketplace for short-term homestays and experiences. The company founded in 2008 acts as a broker and charges a commission from each booking.\n",
        "\n",
        "The company is the **largest hotel company in the world today**. And they do that without have **any hotel**!\n",
        "\n",
        "The website basically connects people who want to stay with hosts who want to rent their properties. It is an innovative platform to make this alternative accommodation possible.\n",
        "\n",
        "Some interesting statistics to know:\n",
        "\n",
        "- There are currently over 4+ million Airbnb hosts worldwide and 6+ million listings on the platform\n",
        "- There are over 100,000 cities worldwide that have Airbnb listings in them\n",
        "- Airbnb has more than 150 million worldwide users that have booked over 1 billion stays\n",
        "- 6 guests check into an Airbnb listing every single second\n",
        "- The average cost for an Airbnb in North America is 163 dollars per night\n",
        "- Airbnb guests stay an average of 4.3 nights per booking\n",
        "- It takes users an average of 11 minutes and 31 seconds when booking a stay on the Airbnb app\n",
        "- The average host earns 13.800 dollars annually\n",
        "- Airbnb’s current valuation is about 113 billion dollars\n",
        "- It’s estimated that Airbnb now has a 20+% market share of the vacation rental industry\n",
        "\n",
        "**In this *python notebook*, we will analyze the data referring to the city of Rio de Janiero (Brazil).**\n",
        "\n",
        "The data was extracted from the [Inside Airbnb](http://insideairbnb.com/get-the-data.html) portal, which is totally open.\n",
        "\n",
        "**Let's see what insights can be extracted from the raw data.**"
      ]
    },
    {
      "cell_type": "markdown",
      "metadata": {
        "id": "0zxQHhIUDF_2"
      },
      "source": [
        "## Importing Packages and getting the data"
      ]
    },
    {
      "cell_type": "code",
      "metadata": {
        "id": "Vhp2wMPgJ6zX"
      },
      "source": [
        "# import packages\n",
        "import numpy as np\n",
        "import pandas as pd\n",
        "import matplotlib.pyplot as plt\n",
        "import seaborn as sns\n",
        "\n",
        "# %matplotlib inline is used is to render any matplotlib diagrams even if the plt. show() function is not called. However, even if %matplotlib inline is not used, Jupyter will still display the Matplotlib diagram as an object, with something like matplotlib. lines.\n",
        "%matplotlib inline\n"
      ],
      "execution_count": null,
      "outputs": []
    },
    {
      "cell_type": "code",
      "source": [
        "# connect with my google drive\n",
        "from google.colab import drive\n",
        "drive.mount('/content/drive')"
      ],
      "metadata": {
        "colab": {
          "base_uri": "https://localhost:8080/"
        },
        "id": "hrE4Dd3Hwxel",
        "outputId": "9731d5bc-1e4c-4614-d24c-74e717e054d8"
      },
      "execution_count": null,
      "outputs": [
        {
          "output_type": "stream",
          "name": "stdout",
          "text": [
            "Mounted at /content/drive\n"
          ]
        }
      ]
    },
    {
      "cell_type": "code",
      "metadata": {
        "id": "tUmoAT8DLQ5T"
      },
      "source": [
        "# import the data as a data frame\n",
        "df = pd.read_csv(\"/content/drive/MyDrive/Colab Notebooks/DS na prática/data/listings.csv\")\n"
      ],
      "execution_count": null,
      "outputs": []
    },
    {
      "cell_type": "markdown",
      "metadata": {
        "id": "qb5By2nIMS6m"
      },
      "source": [
        "## Data Analysis\n"
      ]
    },
    {
      "cell_type": "markdown",
      "metadata": {
        "id": "RYgvuebKNg8-"
      },
      "source": [
        "Let's get an overview of the data set looking at the first 5 rows"
      ]
    },
    {
      "cell_type": "code",
      "metadata": {
        "id": "2iS_dae7YQtO",
        "colab": {
          "base_uri": "https://localhost:8080/",
          "height": 426
        },
        "outputId": "910d21c3-8655-484b-adee-3a1e778e2fc0"
      },
      "source": [
        "# showing the 5 first entrance\n",
        "\n",
        "df.head()"
      ],
      "execution_count": null,
      "outputs": [
        {
          "output_type": "execute_result",
          "data": {
            "text/plain": [
              "                   id                                         name    host_id  \\\n",
              "0            10463735              Sobrado aconchegante e espaçoso   53918534   \n",
              "1            53887789                              Quadra da praia  333527901   \n",
              "2  783493769216852616                                 Leme, Brasil  491704706   \n",
              "3  703973293620197060  Suíte com entrada independente em casarão 1   20362236   \n",
              "4  782895997622988215                 Apartamento próximo ao metrô  302417043   \n",
              "\n",
              "     host_name  neighbourhood_group neighbourhood  latitude  longitude  \\\n",
              "0         Quiá                  NaN   Laranjeiras -22.93555 -43.191070   \n",
              "1        Lucas                  NaN    Copacabana -22.97032 -43.180810   \n",
              "2       Felipe                  NaN          Leme -22.96421 -43.171600   \n",
              "3  Júlio Cesar                  NaN      Botafogo -22.95792 -43.182226   \n",
              "4         Laís                  NaN   Laranjeiras -22.93196 -43.180180   \n",
              "\n",
              "         room_type  price  minimum_nights  number_of_reviews last_review  \\\n",
              "0  Entire home/apt    581               1                  2  2018-02-14   \n",
              "1  Entire home/apt    898               5                  0         NaN   \n",
              "2  Entire home/apt    720               1                  0         NaN   \n",
              "3     Private room    599               4                  1  2022-09-06   \n",
              "4  Entire home/apt    240               3                  0         NaN   \n",
              "\n",
              "   reviews_per_month  calculated_host_listings_count  availability_365  \\\n",
              "0               0.03                               6               181   \n",
              "1                NaN                               2               365   \n",
              "2                NaN                               2               362   \n",
              "3               0.26                               4               363   \n",
              "4                NaN                               1               160   \n",
              "\n",
              "   number_of_reviews_ltm  license  \n",
              "0                      0      NaN  \n",
              "1                      0      NaN  \n",
              "2                      0      NaN  \n",
              "3                      1      NaN  \n",
              "4                      0      NaN  "
            ],
            "text/html": [
              "\n",
              "  <div id=\"df-6b7e1d62-9234-4694-a197-82b5e9317567\">\n",
              "    <div class=\"colab-df-container\">\n",
              "      <div>\n",
              "<style scoped>\n",
              "    .dataframe tbody tr th:only-of-type {\n",
              "        vertical-align: middle;\n",
              "    }\n",
              "\n",
              "    .dataframe tbody tr th {\n",
              "        vertical-align: top;\n",
              "    }\n",
              "\n",
              "    .dataframe thead th {\n",
              "        text-align: right;\n",
              "    }\n",
              "</style>\n",
              "<table border=\"1\" class=\"dataframe\">\n",
              "  <thead>\n",
              "    <tr style=\"text-align: right;\">\n",
              "      <th></th>\n",
              "      <th>id</th>\n",
              "      <th>name</th>\n",
              "      <th>host_id</th>\n",
              "      <th>host_name</th>\n",
              "      <th>neighbourhood_group</th>\n",
              "      <th>neighbourhood</th>\n",
              "      <th>latitude</th>\n",
              "      <th>longitude</th>\n",
              "      <th>room_type</th>\n",
              "      <th>price</th>\n",
              "      <th>minimum_nights</th>\n",
              "      <th>number_of_reviews</th>\n",
              "      <th>last_review</th>\n",
              "      <th>reviews_per_month</th>\n",
              "      <th>calculated_host_listings_count</th>\n",
              "      <th>availability_365</th>\n",
              "      <th>number_of_reviews_ltm</th>\n",
              "      <th>license</th>\n",
              "    </tr>\n",
              "  </thead>\n",
              "  <tbody>\n",
              "    <tr>\n",
              "      <th>0</th>\n",
              "      <td>10463735</td>\n",
              "      <td>Sobrado aconchegante e espaçoso</td>\n",
              "      <td>53918534</td>\n",
              "      <td>Quiá</td>\n",
              "      <td>NaN</td>\n",
              "      <td>Laranjeiras</td>\n",
              "      <td>-22.93555</td>\n",
              "      <td>-43.191070</td>\n",
              "      <td>Entire home/apt</td>\n",
              "      <td>581</td>\n",
              "      <td>1</td>\n",
              "      <td>2</td>\n",
              "      <td>2018-02-14</td>\n",
              "      <td>0.03</td>\n",
              "      <td>6</td>\n",
              "      <td>181</td>\n",
              "      <td>0</td>\n",
              "      <td>NaN</td>\n",
              "    </tr>\n",
              "    <tr>\n",
              "      <th>1</th>\n",
              "      <td>53887789</td>\n",
              "      <td>Quadra da praia</td>\n",
              "      <td>333527901</td>\n",
              "      <td>Lucas</td>\n",
              "      <td>NaN</td>\n",
              "      <td>Copacabana</td>\n",
              "      <td>-22.97032</td>\n",
              "      <td>-43.180810</td>\n",
              "      <td>Entire home/apt</td>\n",
              "      <td>898</td>\n",
              "      <td>5</td>\n",
              "      <td>0</td>\n",
              "      <td>NaN</td>\n",
              "      <td>NaN</td>\n",
              "      <td>2</td>\n",
              "      <td>365</td>\n",
              "      <td>0</td>\n",
              "      <td>NaN</td>\n",
              "    </tr>\n",
              "    <tr>\n",
              "      <th>2</th>\n",
              "      <td>783493769216852616</td>\n",
              "      <td>Leme, Brasil</td>\n",
              "      <td>491704706</td>\n",
              "      <td>Felipe</td>\n",
              "      <td>NaN</td>\n",
              "      <td>Leme</td>\n",
              "      <td>-22.96421</td>\n",
              "      <td>-43.171600</td>\n",
              "      <td>Entire home/apt</td>\n",
              "      <td>720</td>\n",
              "      <td>1</td>\n",
              "      <td>0</td>\n",
              "      <td>NaN</td>\n",
              "      <td>NaN</td>\n",
              "      <td>2</td>\n",
              "      <td>362</td>\n",
              "      <td>0</td>\n",
              "      <td>NaN</td>\n",
              "    </tr>\n",
              "    <tr>\n",
              "      <th>3</th>\n",
              "      <td>703973293620197060</td>\n",
              "      <td>Suíte com entrada independente em casarão 1</td>\n",
              "      <td>20362236</td>\n",
              "      <td>Júlio Cesar</td>\n",
              "      <td>NaN</td>\n",
              "      <td>Botafogo</td>\n",
              "      <td>-22.95792</td>\n",
              "      <td>-43.182226</td>\n",
              "      <td>Private room</td>\n",
              "      <td>599</td>\n",
              "      <td>4</td>\n",
              "      <td>1</td>\n",
              "      <td>2022-09-06</td>\n",
              "      <td>0.26</td>\n",
              "      <td>4</td>\n",
              "      <td>363</td>\n",
              "      <td>1</td>\n",
              "      <td>NaN</td>\n",
              "    </tr>\n",
              "    <tr>\n",
              "      <th>4</th>\n",
              "      <td>782895997622988215</td>\n",
              "      <td>Apartamento próximo ao metrô</td>\n",
              "      <td>302417043</td>\n",
              "      <td>Laís</td>\n",
              "      <td>NaN</td>\n",
              "      <td>Laranjeiras</td>\n",
              "      <td>-22.93196</td>\n",
              "      <td>-43.180180</td>\n",
              "      <td>Entire home/apt</td>\n",
              "      <td>240</td>\n",
              "      <td>3</td>\n",
              "      <td>0</td>\n",
              "      <td>NaN</td>\n",
              "      <td>NaN</td>\n",
              "      <td>1</td>\n",
              "      <td>160</td>\n",
              "      <td>0</td>\n",
              "      <td>NaN</td>\n",
              "    </tr>\n",
              "  </tbody>\n",
              "</table>\n",
              "</div>\n",
              "      <button class=\"colab-df-convert\" onclick=\"convertToInteractive('df-6b7e1d62-9234-4694-a197-82b5e9317567')\"\n",
              "              title=\"Convert this dataframe to an interactive table.\"\n",
              "              style=\"display:none;\">\n",
              "        \n",
              "  <svg xmlns=\"http://www.w3.org/2000/svg\" height=\"24px\"viewBox=\"0 0 24 24\"\n",
              "       width=\"24px\">\n",
              "    <path d=\"M0 0h24v24H0V0z\" fill=\"none\"/>\n",
              "    <path d=\"M18.56 5.44l.94 2.06.94-2.06 2.06-.94-2.06-.94-.94-2.06-.94 2.06-2.06.94zm-11 1L8.5 8.5l.94-2.06 2.06-.94-2.06-.94L8.5 2.5l-.94 2.06-2.06.94zm10 10l.94 2.06.94-2.06 2.06-.94-2.06-.94-.94-2.06-.94 2.06-2.06.94z\"/><path d=\"M17.41 7.96l-1.37-1.37c-.4-.4-.92-.59-1.43-.59-.52 0-1.04.2-1.43.59L10.3 9.45l-7.72 7.72c-.78.78-.78 2.05 0 2.83L4 21.41c.39.39.9.59 1.41.59.51 0 1.02-.2 1.41-.59l7.78-7.78 2.81-2.81c.8-.78.8-2.07 0-2.86zM5.41 20L4 18.59l7.72-7.72 1.47 1.35L5.41 20z\"/>\n",
              "  </svg>\n",
              "      </button>\n",
              "      \n",
              "  <style>\n",
              "    .colab-df-container {\n",
              "      display:flex;\n",
              "      flex-wrap:wrap;\n",
              "      gap: 12px;\n",
              "    }\n",
              "\n",
              "    .colab-df-convert {\n",
              "      background-color: #E8F0FE;\n",
              "      border: none;\n",
              "      border-radius: 50%;\n",
              "      cursor: pointer;\n",
              "      display: none;\n",
              "      fill: #1967D2;\n",
              "      height: 32px;\n",
              "      padding: 0 0 0 0;\n",
              "      width: 32px;\n",
              "    }\n",
              "\n",
              "    .colab-df-convert:hover {\n",
              "      background-color: #E2EBFA;\n",
              "      box-shadow: 0px 1px 2px rgba(60, 64, 67, 0.3), 0px 1px 3px 1px rgba(60, 64, 67, 0.15);\n",
              "      fill: #174EA6;\n",
              "    }\n",
              "\n",
              "    [theme=dark] .colab-df-convert {\n",
              "      background-color: #3B4455;\n",
              "      fill: #D2E3FC;\n",
              "    }\n",
              "\n",
              "    [theme=dark] .colab-df-convert:hover {\n",
              "      background-color: #434B5C;\n",
              "      box-shadow: 0px 1px 3px 1px rgba(0, 0, 0, 0.15);\n",
              "      filter: drop-shadow(0px 1px 2px rgba(0, 0, 0, 0.3));\n",
              "      fill: #FFFFFF;\n",
              "    }\n",
              "  </style>\n",
              "\n",
              "      <script>\n",
              "        const buttonEl =\n",
              "          document.querySelector('#df-6b7e1d62-9234-4694-a197-82b5e9317567 button.colab-df-convert');\n",
              "        buttonEl.style.display =\n",
              "          google.colab.kernel.accessAllowed ? 'block' : 'none';\n",
              "\n",
              "        async function convertToInteractive(key) {\n",
              "          const element = document.querySelector('#df-6b7e1d62-9234-4694-a197-82b5e9317567');\n",
              "          const dataTable =\n",
              "            await google.colab.kernel.invokeFunction('convertToInteractive',\n",
              "                                                     [key], {});\n",
              "          if (!dataTable) return;\n",
              "\n",
              "          const docLinkHtml = 'Like what you see? Visit the ' +\n",
              "            '<a target=\"_blank\" href=https://colab.research.google.com/notebooks/data_table.ipynb>data table notebook</a>'\n",
              "            + ' to learn more about interactive tables.';\n",
              "          element.innerHTML = '';\n",
              "          dataTable['output_type'] = 'display_data';\n",
              "          await google.colab.output.renderOutput(dataTable, element);\n",
              "          const docLink = document.createElement('div');\n",
              "          docLink.innerHTML = docLinkHtml;\n",
              "          element.appendChild(docLink);\n",
              "        }\n",
              "      </script>\n",
              "    </div>\n",
              "  </div>\n",
              "  "
            ]
          },
          "metadata": {},
          "execution_count": 6
        }
      ]
    },
    {
      "cell_type": "markdown",
      "source": [
        "**Variables index**\n",
        "\n",
        "* id - id number to identify the property\n",
        "* name - name of the owner\n",
        "* host_id - id number to identify the owner (host)\n",
        "* host_name - Host Name\n",
        "* neighbourhood_group - there are no valid values in this column\n",
        "* neighbourhood - neghbourhood name\n",
        "* latitude - property latitude coordinate\n",
        "* longitude - coordinate of the property\n",
        "* room_type - informs the accomodation type (room, entire space, tc)\n",
        "* price - accomodation price per night\n",
        "* minimum_nights - minimum number of nights to book\n",
        "* number_of_reviews - number of reviews of the accomodation\n",
        "* last_review - last review date\n",
        "* reviews_per_month - number of reviews per month\n",
        "* calculated_host_listings_count - number of properties of the host offered in Airbnb\n",
        "* availability_365 - number of available days within 365 days\n",
        "* number_of_reviews_ltm - number of review in the last 12 months\n",
        "* license - (Do not show any value)\n"
      ],
      "metadata": {
        "id": "u9FArT2vOg6G"
      }
    },
    {
      "cell_type": "markdown",
      "metadata": {
        "id": "6-B_qtEaYEd-"
      },
      "source": [
        "### **Q1. How many variables and how many entrances are there in our data set? What are the variables types?**"
      ]
    },
    {
      "cell_type": "code",
      "metadata": {
        "id": "TFRK0tniLV-G",
        "colab": {
          "base_uri": "https://localhost:8080/",
          "height": 382
        },
        "outputId": "418b1ec5-0de2-4653-d1bc-eec75ce69408"
      },
      "source": [
        "# identify the data volume of the DataFrame df\n",
        "print(\"Variables: \", (df.shape[1]))\n",
        "print(\"Entrance: \", (df.shape[0]))\n",
        "\n",
        "# the variables types\n",
        "display(df.dtypes)\n"
      ],
      "execution_count": null,
      "outputs": [
        {
          "output_type": "stream",
          "name": "stdout",
          "text": [
            "Variables:  18\n",
            "Entrance:  28301\n"
          ]
        },
        {
          "output_type": "display_data",
          "data": {
            "text/plain": [
              "id                                  int64\n",
              "name                               object\n",
              "host_id                             int64\n",
              "host_name                          object\n",
              "neighbourhood_group               float64\n",
              "neighbourhood                      object\n",
              "latitude                          float64\n",
              "longitude                         float64\n",
              "room_type                          object\n",
              "price                               int64\n",
              "minimum_nights                      int64\n",
              "number_of_reviews                   int64\n",
              "last_review                        object\n",
              "reviews_per_month                 float64\n",
              "calculated_host_listings_count      int64\n",
              "availability_365                    int64\n",
              "number_of_reviews_ltm               int64\n",
              "license                           float64\n",
              "dtype: object"
            ]
          },
          "metadata": {}
        }
      ]
    },
    {
      "cell_type": "markdown",
      "metadata": {
        "id": "yz1urSUGW9iE"
      },
      "source": [
        "### **Q2. What is the percentage of missing values in  the *dataset*?**\n",
        "\n",
        "The quality of a dataset is directly related to the amount of missing values. It's important to understand early on whether these null values are significant compared to the total entries."
      ]
    },
    {
      "cell_type": "code",
      "metadata": {
        "id": "plk2FjbCXOqP",
        "colab": {
          "base_uri": "https://localhost:8080/"
        },
        "outputId": "d103656b-80dc-4404-dfe4-3bdb56cee340"
      },
      "source": [
        "# sort in descending order the variables by their missing values\n",
        "\n",
        "(df.isnull().sum() / df.shape[0]).sort_values(ascending=False)\n"
      ],
      "execution_count": null,
      "outputs": [
        {
          "output_type": "execute_result",
          "data": {
            "text/plain": [
              "license                           1.000000\n",
              "neighbourhood_group               1.000000\n",
              "reviews_per_month                 0.300979\n",
              "last_review                       0.300979\n",
              "name                              0.001025\n",
              "host_name                         0.000106\n",
              "number_of_reviews                 0.000000\n",
              "number_of_reviews_ltm             0.000000\n",
              "availability_365                  0.000000\n",
              "calculated_host_listings_count    0.000000\n",
              "id                                0.000000\n",
              "minimum_nights                    0.000000\n",
              "room_type                         0.000000\n",
              "longitude                         0.000000\n",
              "latitude                          0.000000\n",
              "neighbourhood                     0.000000\n",
              "host_id                           0.000000\n",
              "price                             0.000000\n",
              "dtype: float64"
            ]
          },
          "metadata": {},
          "execution_count": 8
        }
      ]
    },
    {
      "cell_type": "markdown",
      "source": [
        "**What is possible to see:**\n",
        "* The `licence` and `neighbourhood_group` columns have 100% of its values missing.\n",
        "* The variables `reviews_per_month` and `last_review` have null values in 30% of the lines.\n",
        "* The variables `name` and `host_name` have just few null values.\n",
        "* There are no missing values in the other variables"
      ],
      "metadata": {
        "id": "8GWtTTia30bb"
      }
    },
    {
      "cell_type": "markdown",
      "metadata": {
        "id": "iHXvvHIxaoNc"
      },
      "source": [
        "### **Q3. What is the distribution type of the variables?** "
      ]
    },
    {
      "cell_type": "code",
      "metadata": {
        "id": "q2wWSfeRbmBo",
        "colab": {
          "base_uri": "https://localhost:8080/",
          "height": 607
        },
        "outputId": "c244ccdf-673c-4bb4-988c-622e84d81e00"
      },
      "source": [
        "# plot the histogram chart for the numerical variables\n",
        "df.hist(bins=15, figsize=(15,10));"
      ],
      "execution_count": null,
      "outputs": [
        {
          "output_type": "display_data",
          "data": {
            "text/plain": [
              "<Figure size 1080x720 with 16 Axes>"
            ],
            "image/png": "[encoded data removed]"
          },
          "metadata": {
            "needs_background": "light"
          }
        }
      ]
    },
    {
      "cell_type": "markdown",
      "source": [
        "**What is possible to see:**\n",
        "\n",
        "* The distribution of all variables seems to be not normal\n",
        "* It's possible to notice that there are outliers in most of the numerical variables, for example: \n",
        "** In the variable `minimum_nights`, it's possible to see that most of the values are under 250, but the x-axis (that represents minimum nights) shows values from 0 to 1000. It shows the nonnormality of this variable.\n",
        "** A similar standard is possible to see in the variables `price`, `number_of_reviews`, `reviews_per_month`, and `number_of_reviews_ltm`."
      ],
      "metadata": {
        "id": "wDFcBUml6rqD"
      }
    },
    {
      "cell_type": "markdown",
      "metadata": {
        "id": "7x4aw1j5wNmn"
      },
      "source": [
        "### **Q4. What is the mean of the rent prices?**"
      ]
    },
    {
      "cell_type": "code",
      "metadata": {
        "id": "ff-8gUahLk-C",
        "colab": {
          "base_uri": "https://localhost:8080/"
        },
        "outputId": "964833c3-4a5d-47e3-9cea-ca1d4a14a75d"
      },
      "source": [
        "# mean fo the 'price' column\n",
        "df.mean()\n"
      ],
      "execution_count": null,
      "outputs": [
        {
          "output_type": "stream",
          "name": "stderr",
          "text": [
            "<ipython-input-45-4e52cdbe1150>:2: FutureWarning: Dropping of nuisance columns in DataFrame reductions (with 'numeric_only=None') is deprecated; in a future version this will raise TypeError.  Select only valid columns before calling the reduction.\n",
            "  df.mean()\n"
          ]
        },
        {
          "output_type": "execute_result",
          "data": {
            "text/plain": [
              "id                                2.226960e+17\n",
              "host_id                           1.457719e+08\n",
              "neighbourhood_group                        NaN\n",
              "latitude                         -2.296761e+01\n",
              "longitude                        -4.325087e+01\n",
              "price                             1.448447e+03\n",
              "minimum_nights                    4.904138e+00\n",
              "number_of_reviews                 1.750242e+01\n",
              "reviews_per_month                 8.941040e-01\n",
              "calculated_host_listings_count    9.448677e+00\n",
              "availability_365                  2.071472e+02\n",
              "number_of_reviews_ltm             6.156673e+00\n",
              "license                                    NaN\n",
              "dtype: float64"
            ]
          },
          "metadata": {},
          "execution_count": 45
        }
      ]
    },
    {
      "cell_type": "markdown",
      "source": [
        "Although Rio de Janeiro is a turistic city, and one of the most expensive cities in Brazil, 1448,00 for 1 night is too, too much. \n",
        "\n",
        "But to confirm the nonormalty of the data, lets check the descriptive statistic for the numeric variables:"
      ],
      "metadata": {
        "id": "zNP3NDbkmXm_"
      }
    },
    {
      "cell_type": "code",
      "source": [
        "df[['price', 'minimum_nights', 'number_of_reviews', 'reviews_per_month',\n",
        "    'calculated_host_listings_count', 'availability_365', 'number_of_reviews_ltm']].describe()"
      ],
      "metadata": {
        "colab": {
          "base_uri": "https://localhost:8080/",
          "height": 300
        },
        "id": "ZQ51AwMrnQns",
        "outputId": "baf6b338-0fec-412c-e194-38db966a8203"
      },
      "execution_count": null,
      "outputs": [
        {
          "output_type": "execute_result",
          "data": {
            "text/plain": [
              "               price  minimum_nights  number_of_reviews  reviews_per_month  \\\n",
              "count   28301.000000    28301.000000       28301.000000       19783.000000   \n",
              "mean     1448.447369        4.904138          17.502420           0.894104   \n",
              "std      9631.935666       24.675970          37.786946           1.026587   \n",
              "min         0.000000        1.000000           0.000000           0.010000   \n",
              "25%       317.000000        1.000000           0.000000           0.190000   \n",
              "50%       600.000000        2.000000           3.000000           0.540000   \n",
              "75%      1071.000000        4.000000          16.000000           1.240000   \n",
              "max    604981.000000     1125.000000         563.000000          18.170000   \n",
              "\n",
              "       calculated_host_listings_count  availability_365  number_of_reviews_ltm  \n",
              "count                    28301.000000      28301.000000           28301.000000  \n",
              "mean                         9.448677        207.147168               6.156673  \n",
              "std                         27.668056        136.190680              10.662293  \n",
              "min                          1.000000          0.000000               0.000000  \n",
              "25%                          1.000000         76.000000               0.000000  \n",
              "50%                          2.000000        223.000000               1.000000  \n",
              "75%                          4.000000        350.000000               7.000000  \n",
              "max                        228.000000        365.000000             174.000000  "
            ],
            "text/html": [
              "\n",
              "  <div id=\"df-e2cd12b2-8f63-4cdd-b43b-da9409601f7f\">\n",
              "    <div class=\"colab-df-container\">\n",
              "      <div>\n",
              "<style scoped>\n",
              "    .dataframe tbody tr th:only-of-type {\n",
              "        vertical-align: middle;\n",
              "    }\n",
              "\n",
              "    .dataframe tbody tr th {\n",
              "        vertical-align: top;\n",
              "    }\n",
              "\n",
              "    .dataframe thead th {\n",
              "        text-align: right;\n",
              "    }\n",
              "</style>\n",
              "<table border=\"1\" class=\"dataframe\">\n",
              "  <thead>\n",
              "    <tr style=\"text-align: right;\">\n",
              "      <th></th>\n",
              "      <th>price</th>\n",
              "      <th>minimum_nights</th>\n",
              "      <th>number_of_reviews</th>\n",
              "      <th>reviews_per_month</th>\n",
              "      <th>calculated_host_listings_count</th>\n",
              "      <th>availability_365</th>\n",
              "      <th>number_of_reviews_ltm</th>\n",
              "    </tr>\n",
              "  </thead>\n",
              "  <tbody>\n",
              "    <tr>\n",
              "      <th>count</th>\n",
              "      <td>28301.000000</td>\n",
              "      <td>28301.000000</td>\n",
              "      <td>28301.000000</td>\n",
              "      <td>19783.000000</td>\n",
              "      <td>28301.000000</td>\n",
              "      <td>28301.000000</td>\n",
              "      <td>28301.000000</td>\n",
              "    </tr>\n",
              "    <tr>\n",
              "      <th>mean</th>\n",
              "      <td>1448.447369</td>\n",
              "      <td>4.904138</td>\n",
              "      <td>17.502420</td>\n",
              "      <td>0.894104</td>\n",
              "      <td>9.448677</td>\n",
              "      <td>207.147168</td>\n",
              "      <td>6.156673</td>\n",
              "    </tr>\n",
              "    <tr>\n",
              "      <th>std</th>\n",
              "      <td>9631.935666</td>\n",
              "      <td>24.675970</td>\n",
              "      <td>37.786946</td>\n",
              "      <td>1.026587</td>\n",
              "      <td>27.668056</td>\n",
              "      <td>136.190680</td>\n",
              "      <td>10.662293</td>\n",
              "    </tr>\n",
              "    <tr>\n",
              "      <th>min</th>\n",
              "      <td>0.000000</td>\n",
              "      <td>1.000000</td>\n",
              "      <td>0.000000</td>\n",
              "      <td>0.010000</td>\n",
              "      <td>1.000000</td>\n",
              "      <td>0.000000</td>\n",
              "      <td>0.000000</td>\n",
              "    </tr>\n",
              "    <tr>\n",
              "      <th>25%</th>\n",
              "      <td>317.000000</td>\n",
              "      <td>1.000000</td>\n",
              "      <td>0.000000</td>\n",
              "      <td>0.190000</td>\n",
              "      <td>1.000000</td>\n",
              "      <td>76.000000</td>\n",
              "      <td>0.000000</td>\n",
              "    </tr>\n",
              "    <tr>\n",
              "      <th>50%</th>\n",
              "      <td>600.000000</td>\n",
              "      <td>2.000000</td>\n",
              "      <td>3.000000</td>\n",
              "      <td>0.540000</td>\n",
              "      <td>2.000000</td>\n",
              "      <td>223.000000</td>\n",
              "      <td>1.000000</td>\n",
              "    </tr>\n",
              "    <tr>\n",
              "      <th>75%</th>\n",
              "      <td>1071.000000</td>\n",
              "      <td>4.000000</td>\n",
              "      <td>16.000000</td>\n",
              "      <td>1.240000</td>\n",
              "      <td>4.000000</td>\n",
              "      <td>350.000000</td>\n",
              "      <td>7.000000</td>\n",
              "    </tr>\n",
              "    <tr>\n",
              "      <th>max</th>\n",
              "      <td>604981.000000</td>\n",
              "      <td>1125.000000</td>\n",
              "      <td>563.000000</td>\n",
              "      <td>18.170000</td>\n",
              "      <td>228.000000</td>\n",
              "      <td>365.000000</td>\n",
              "      <td>174.000000</td>\n",
              "    </tr>\n",
              "  </tbody>\n",
              "</table>\n",
              "</div>\n",
              "      <button class=\"colab-df-convert\" onclick=\"convertToInteractive('df-e2cd12b2-8f63-4cdd-b43b-da9409601f7f')\"\n",
              "              title=\"Convert this dataframe to an interactive table.\"\n",
              "              style=\"display:none;\">\n",
              "        \n",
              "  <svg xmlns=\"http://www.w3.org/2000/svg\" height=\"24px\"viewBox=\"0 0 24 24\"\n",
              "       width=\"24px\">\n",
              "    <path d=\"M0 0h24v24H0V0z\" fill=\"none\"/>\n",
              "    <path d=\"M18.56 5.44l.94 2.06.94-2.06 2.06-.94-2.06-.94-.94-2.06-.94 2.06-2.06.94zm-11 1L8.5 8.5l.94-2.06 2.06-.94-2.06-.94L8.5 2.5l-.94 2.06-2.06.94zm10 10l.94 2.06.94-2.06 2.06-.94-2.06-.94-.94-2.06-.94 2.06-2.06.94z\"/><path d=\"M17.41 7.96l-1.37-1.37c-.4-.4-.92-.59-1.43-.59-.52 0-1.04.2-1.43.59L10.3 9.45l-7.72 7.72c-.78.78-.78 2.05 0 2.83L4 21.41c.39.39.9.59 1.41.59.51 0 1.02-.2 1.41-.59l7.78-7.78 2.81-2.81c.8-.78.8-2.07 0-2.86zM5.41 20L4 18.59l7.72-7.72 1.47 1.35L5.41 20z\"/>\n",
              "  </svg>\n",
              "      </button>\n",
              "      \n",
              "  <style>\n",
              "    .colab-df-container {\n",
              "      display:flex;\n",
              "      flex-wrap:wrap;\n",
              "      gap: 12px;\n",
              "    }\n",
              "\n",
              "    .colab-df-convert {\n",
              "      background-color: #E8F0FE;\n",
              "      border: none;\n",
              "      border-radius: 50%;\n",
              "      cursor: pointer;\n",
              "      display: none;\n",
              "      fill: #1967D2;\n",
              "      height: 32px;\n",
              "      padding: 0 0 0 0;\n",
              "      width: 32px;\n",
              "    }\n",
              "\n",
              "    .colab-df-convert:hover {\n",
              "      background-color: #E2EBFA;\n",
              "      box-shadow: 0px 1px 2px rgba(60, 64, 67, 0.3), 0px 1px 3px 1px rgba(60, 64, 67, 0.15);\n",
              "      fill: #174EA6;\n",
              "    }\n",
              "\n",
              "    [theme=dark] .colab-df-convert {\n",
              "      background-color: #3B4455;\n",
              "      fill: #D2E3FC;\n",
              "    }\n",
              "\n",
              "    [theme=dark] .colab-df-convert:hover {\n",
              "      background-color: #434B5C;\n",
              "      box-shadow: 0px 1px 3px 1px rgba(0, 0, 0, 0.15);\n",
              "      filter: drop-shadow(0px 1px 2px rgba(0, 0, 0, 0.3));\n",
              "      fill: #FFFFFF;\n",
              "    }\n",
              "  </style>\n",
              "\n",
              "      <script>\n",
              "        const buttonEl =\n",
              "          document.querySelector('#df-e2cd12b2-8f63-4cdd-b43b-da9409601f7f button.colab-df-convert');\n",
              "        buttonEl.style.display =\n",
              "          google.colab.kernel.accessAllowed ? 'block' : 'none';\n",
              "\n",
              "        async function convertToInteractive(key) {\n",
              "          const element = document.querySelector('#df-e2cd12b2-8f63-4cdd-b43b-da9409601f7f');\n",
              "          const dataTable =\n",
              "            await google.colab.kernel.invokeFunction('convertToInteractive',\n",
              "                                                     [key], {});\n",
              "          if (!dataTable) return;\n",
              "\n",
              "          const docLinkHtml = 'Like what you see? Visit the ' +\n",
              "            '<a target=\"_blank\" href=https://colab.research.google.com/notebooks/data_table.ipynb>data table notebook</a>'\n",
              "            + ' to learn more about interactive tables.';\n",
              "          element.innerHTML = '';\n",
              "          dataTable['output_type'] = 'display_data';\n",
              "          await google.colab.output.renderOutput(dataTable, element);\n",
              "          const docLink = document.createElement('div');\n",
              "          docLink.innerHTML = docLinkHtml;\n",
              "          element.appendChild(docLink);\n",
              "        }\n",
              "      </script>\n",
              "    </div>\n",
              "  </div>\n",
              "  "
            ]
          },
          "metadata": {},
          "execution_count": 10
        }
      ]
    },
    {
      "cell_type": "markdown",
      "source": [
        "Let's continue to talk about the `price` variable: now we can see that 75% of the prices are under 1071, so probably the mean is not the best measure to see the variable variability. Looking at the maximum value we can confirm the presence of outliers.\n",
        "\n",
        "In the same way, the `minimum_nights` variable shows its maximum value as 1125, but 75% of the values is under 4, so it is clear that we have outliers in this variable.\n",
        "\n",
        "Another option would be plto bloxpots of these two variables, but we have already confirmed the outliers, so let's clean the data on `price` and `minimum_nights` variables, drop the outliers and plot new histograms."
      ],
      "metadata": {
        "id": "8VkdzjDXnhRb"
      }
    },
    {
      "cell_type": "code",
      "source": [
        "# drop the outliers in a copy of the DataFrame\n",
        "df_clean = df.copy()\n",
        "df_clean.drop(df_clean[df_clean.price > 1500].index, axis=0, inplace=True)\n",
        "df_clean.drop(df_clean[df_clean.minimum_nights > 30].index, axis=0, inplace=True)\n",
        "\n",
        "# take away the `neighbourhood_group` variable, because there are no values in it\n",
        "df_clean.drop('neighbourhood_group', axis=1, inplace=True)\n",
        "\n",
        "# plot histograms for the numerical variables\n",
        "df_clean.hist(bins=15, figsize=(15,10));"
      ],
      "metadata": {
        "colab": {
          "base_uri": "https://localhost:8080/",
          "height": 607
        },
        "id": "W6i1D1GDrXuI",
        "outputId": "14ea43a9-c195-4a8e-dbf0-f5ce5c9e3ff1"
      },
      "execution_count": null,
      "outputs": [
        {
          "output_type": "display_data",
          "data": {
            "text/plain": [
              "<Figure size 1080x720 with 12 Axes>"
            ],
            "image/png": "[encoded data removed]"
          },
          "metadata": {
            "needs_background": "light"
          }
        }
      ]
    },
    {
      "cell_type": "markdown",
      "source": [
        "Now we have a more realistic dataset for the variables `price` and `minimum_nights`."
      ],
      "metadata": {
        "id": "sWe2oF68sXdx"
      }
    },
    {
      "cell_type": "markdown",
      "metadata": {
        "id": "IXn2oIo5qx-w"
      },
      "source": [
        "### **Q4. What is the correlation among the variables?"
      ]
    },
    {
      "cell_type": "code",
      "metadata": {
        "id": "x2ayzBajqxyd",
        "colab": {
          "base_uri": "https://localhost:8080/",
          "height": 333
        },
        "outputId": "fce32f5d-7db4-4945-a5bb-d56c095d26bc"
      },
      "source": [
        "# setting a correlation matrix\n",
        "corr = df_clean[['price', 'minimum_nights', 'number_of_reviews', 'reviews_per_month',\n",
        "    'calculated_host_listings_count', 'availability_365', 'number_of_reviews_ltm']].corr()\n",
        "\n",
        "display(corr)\n"
      ],
      "execution_count": null,
      "outputs": [
        {
          "output_type": "display_data",
          "data": {
            "text/plain": [
              "                                   price  minimum_nights  number_of_reviews  \\\n",
              "price                           1.000000        0.034560           0.000228   \n",
              "minimum_nights                  0.034560        1.000000          -0.067094   \n",
              "number_of_reviews               0.000228       -0.067094           1.000000   \n",
              "reviews_per_month               0.027493       -0.163837           0.490754   \n",
              "calculated_host_listings_count  0.159886       -0.049962          -0.036918   \n",
              "availability_365                0.030933       -0.018122          -0.133034   \n",
              "number_of_reviews_ltm           0.006989       -0.131711           0.707273   \n",
              "\n",
              "                                reviews_per_month  \\\n",
              "price                                    0.027493   \n",
              "minimum_nights                          -0.163837   \n",
              "number_of_reviews                        0.490754   \n",
              "reviews_per_month                        1.000000   \n",
              "calculated_host_listings_count           0.009244   \n",
              "availability_365                        -0.097998   \n",
              "number_of_reviews_ltm                    0.768410   \n",
              "\n",
              "                                calculated_host_listings_count  \\\n",
              "price                                                 0.159886   \n",
              "minimum_nights                                       -0.049962   \n",
              "number_of_reviews                                    -0.036918   \n",
              "reviews_per_month                                     0.009244   \n",
              "calculated_host_listings_count                        1.000000   \n",
              "availability_365                                      0.015987   \n",
              "number_of_reviews_ltm                                -0.012552   \n",
              "\n",
              "                                availability_365  number_of_reviews_ltm  \n",
              "price                                   0.030933               0.006989  \n",
              "minimum_nights                         -0.018122              -0.131711  \n",
              "number_of_reviews                      -0.133034               0.707273  \n",
              "reviews_per_month                      -0.097998               0.768410  \n",
              "calculated_host_listings_count          0.015987              -0.012552  \n",
              "availability_365                        1.000000              -0.149107  \n",
              "number_of_reviews_ltm                  -0.149107               1.000000  "
            ],
            "text/html": [
              "\n",
              "  <div id=\"df-104be401-7f57-4815-9c7e-7f24209693fd\">\n",
              "    <div class=\"colab-df-container\">\n",
              "      <div>\n",
              "<style scoped>\n",
              "    .dataframe tbody tr th:only-of-type {\n",
              "        vertical-align: middle;\n",
              "    }\n",
              "\n",
              "    .dataframe tbody tr th {\n",
              "        vertical-align: top;\n",
              "    }\n",
              "\n",
              "    .dataframe thead th {\n",
              "        text-align: right;\n",
              "    }\n",
              "</style>\n",
              "<table border=\"1\" class=\"dataframe\">\n",
              "  <thead>\n",
              "    <tr style=\"text-align: right;\">\n",
              "      <th></th>\n",
              "      <th>price</th>\n",
              "      <th>minimum_nights</th>\n",
              "      <th>number_of_reviews</th>\n",
              "      <th>reviews_per_month</th>\n",
              "      <th>calculated_host_listings_count</th>\n",
              "      <th>availability_365</th>\n",
              "      <th>number_of_reviews_ltm</th>\n",
              "    </tr>\n",
              "  </thead>\n",
              "  <tbody>\n",
              "    <tr>\n",
              "      <th>price</th>\n",
              "      <td>1.000000</td>\n",
              "      <td>0.034560</td>\n",
              "      <td>0.000228</td>\n",
              "      <td>0.027493</td>\n",
              "      <td>0.159886</td>\n",
              "      <td>0.030933</td>\n",
              "      <td>0.006989</td>\n",
              "    </tr>\n",
              "    <tr>\n",
              "      <th>minimum_nights</th>\n",
              "      <td>0.034560</td>\n",
              "      <td>1.000000</td>\n",
              "      <td>-0.067094</td>\n",
              "      <td>-0.163837</td>\n",
              "      <td>-0.049962</td>\n",
              "      <td>-0.018122</td>\n",
              "      <td>-0.131711</td>\n",
              "    </tr>\n",
              "    <tr>\n",
              "      <th>number_of_reviews</th>\n",
              "      <td>0.000228</td>\n",
              "      <td>-0.067094</td>\n",
              "      <td>1.000000</td>\n",
              "      <td>0.490754</td>\n",
              "      <td>-0.036918</td>\n",
              "      <td>-0.133034</td>\n",
              "      <td>0.707273</td>\n",
              "    </tr>\n",
              "    <tr>\n",
              "      <th>reviews_per_month</th>\n",
              "      <td>0.027493</td>\n",
              "      <td>-0.163837</td>\n",
              "      <td>0.490754</td>\n",
              "      <td>1.000000</td>\n",
              "      <td>0.009244</td>\n",
              "      <td>-0.097998</td>\n",
              "      <td>0.768410</td>\n",
              "    </tr>\n",
              "    <tr>\n",
              "      <th>calculated_host_listings_count</th>\n",
              "      <td>0.159886</td>\n",
              "      <td>-0.049962</td>\n",
              "      <td>-0.036918</td>\n",
              "      <td>0.009244</td>\n",
              "      <td>1.000000</td>\n",
              "      <td>0.015987</td>\n",
              "      <td>-0.012552</td>\n",
              "    </tr>\n",
              "    <tr>\n",
              "      <th>availability_365</th>\n",
              "      <td>0.030933</td>\n",
              "      <td>-0.018122</td>\n",
              "      <td>-0.133034</td>\n",
              "      <td>-0.097998</td>\n",
              "      <td>0.015987</td>\n",
              "      <td>1.000000</td>\n",
              "      <td>-0.149107</td>\n",
              "    </tr>\n",
              "    <tr>\n",
              "      <th>number_of_reviews_ltm</th>\n",
              "      <td>0.006989</td>\n",
              "      <td>-0.131711</td>\n",
              "      <td>0.707273</td>\n",
              "      <td>0.768410</td>\n",
              "      <td>-0.012552</td>\n",
              "      <td>-0.149107</td>\n",
              "      <td>1.000000</td>\n",
              "    </tr>\n",
              "  </tbody>\n",
              "</table>\n",
              "</div>\n",
              "      <button class=\"colab-df-convert\" onclick=\"convertToInteractive('df-104be401-7f57-4815-9c7e-7f24209693fd')\"\n",
              "              title=\"Convert this dataframe to an interactive table.\"\n",
              "              style=\"display:none;\">\n",
              "        \n",
              "  <svg xmlns=\"http://www.w3.org/2000/svg\" height=\"24px\"viewBox=\"0 0 24 24\"\n",
              "       width=\"24px\">\n",
              "    <path d=\"M0 0h24v24H0V0z\" fill=\"none\"/>\n",
              "    <path d=\"M18.56 5.44l.94 2.06.94-2.06 2.06-.94-2.06-.94-.94-2.06-.94 2.06-2.06.94zm-11 1L8.5 8.5l.94-2.06 2.06-.94-2.06-.94L8.5 2.5l-.94 2.06-2.06.94zm10 10l.94 2.06.94-2.06 2.06-.94-2.06-.94-.94-2.06-.94 2.06-2.06.94z\"/><path d=\"M17.41 7.96l-1.37-1.37c-.4-.4-.92-.59-1.43-.59-.52 0-1.04.2-1.43.59L10.3 9.45l-7.72 7.72c-.78.78-.78 2.05 0 2.83L4 21.41c.39.39.9.59 1.41.59.51 0 1.02-.2 1.41-.59l7.78-7.78 2.81-2.81c.8-.78.8-2.07 0-2.86zM5.41 20L4 18.59l7.72-7.72 1.47 1.35L5.41 20z\"/>\n",
              "  </svg>\n",
              "      </button>\n",
              "      \n",
              "  <style>\n",
              "    .colab-df-container {\n",
              "      display:flex;\n",
              "      flex-wrap:wrap;\n",
              "      gap: 12px;\n",
              "    }\n",
              "\n",
              "    .colab-df-convert {\n",
              "      background-color: #E8F0FE;\n",
              "      border: none;\n",
              "      border-radius: 50%;\n",
              "      cursor: pointer;\n",
              "      display: none;\n",
              "      fill: #1967D2;\n",
              "      height: 32px;\n",
              "      padding: 0 0 0 0;\n",
              "      width: 32px;\n",
              "    }\n",
              "\n",
              "    .colab-df-convert:hover {\n",
              "      background-color: #E2EBFA;\n",
              "      box-shadow: 0px 1px 2px rgba(60, 64, 67, 0.3), 0px 1px 3px 1px rgba(60, 64, 67, 0.15);\n",
              "      fill: #174EA6;\n",
              "    }\n",
              "\n",
              "    [theme=dark] .colab-df-convert {\n",
              "      background-color: #3B4455;\n",
              "      fill: #D2E3FC;\n",
              "    }\n",
              "\n",
              "    [theme=dark] .colab-df-convert:hover {\n",
              "      background-color: #434B5C;\n",
              "      box-shadow: 0px 1px 3px 1px rgba(0, 0, 0, 0.15);\n",
              "      filter: drop-shadow(0px 1px 2px rgba(0, 0, 0, 0.3));\n",
              "      fill: #FFFFFF;\n",
              "    }\n",
              "  </style>\n",
              "\n",
              "      <script>\n",
              "        const buttonEl =\n",
              "          document.querySelector('#df-104be401-7f57-4815-9c7e-7f24209693fd button.colab-df-convert');\n",
              "        buttonEl.style.display =\n",
              "          google.colab.kernel.accessAllowed ? 'block' : 'none';\n",
              "\n",
              "        async function convertToInteractive(key) {\n",
              "          const element = document.querySelector('#df-104be401-7f57-4815-9c7e-7f24209693fd');\n",
              "          const dataTable =\n",
              "            await google.colab.kernel.invokeFunction('convertToInteractive',\n",
              "                                                     [key], {});\n",
              "          if (!dataTable) return;\n",
              "\n",
              "          const docLinkHtml = 'Like what you see? Visit the ' +\n",
              "            '<a target=\"_blank\" href=https://colab.research.google.com/notebooks/data_table.ipynb>data table notebook</a>'\n",
              "            + ' to learn more about interactive tables.';\n",
              "          element.innerHTML = '';\n",
              "          dataTable['output_type'] = 'display_data';\n",
              "          await google.colab.output.renderOutput(dataTable, element);\n",
              "          const docLink = document.createElement('div');\n",
              "          docLink.innerHTML = docLinkHtml;\n",
              "          element.appendChild(docLink);\n",
              "        }\n",
              "      </script>\n",
              "    </div>\n",
              "  </div>\n",
              "  "
            ]
          },
          "metadata": {}
        }
      ]
    },
    {
      "cell_type": "code",
      "metadata": {
        "id": "91UujDr6ueqE",
        "colab": {
          "base_uri": "https://localhost:8080/",
          "height": 411
        },
        "outputId": "d009d441-a914-4ea1-b683-f38a825d8890"
      },
      "source": [
        "# plotting a heat map using the seaborn library\n",
        "sns.heatmap(corr, cmap='RdBu', fmt='.2f', square=True, linecolor='white', annot=True);\n"
      ],
      "execution_count": null,
      "outputs": [
        {
          "output_type": "display_data",
          "data": {
            "text/plain": [
              "<Figure size 432x288 with 2 Axes>"
            ],
            "image/png": "[encoded data removed]"
          },
          "metadata": {
            "needs_background": "light"
          }
        }
      ]
    },
    {
      "cell_type": "markdown",
      "source": [
        "Correlation is measuared between -1 and +1. Values closer to 1 represent a stronger correlation between the two variables, either a positive or negative correlation.\n",
        "\n",
        "The strongest correlations in our data are 0.77 and 0.71, but they are correlations between the number of reviews, which say nothing. **Remembering that correlation does not imply causation.**"
      ],
      "metadata": {
        "id": "S-mdw3UrttY2"
      }
    },
    {
      "cell_type": "markdown",
      "metadata": {
        "id": "7b6RMWpuHKN-"
      },
      "source": [
        "### **Q5. The Airbnb accomodation types**\n",
        "There are more than ont type of accomodation in airbnb, like, entire place, private room, shared room etc. Let's see the number of each one of the accomodation types in absolute and relative frequencies:"
      ]
    },
    {
      "cell_type": "code",
      "metadata": {
        "id": "ueLPNWvPHgfB",
        "colab": {
          "base_uri": "https://localhost:8080/"
        },
        "outputId": "e49c4b54-2b96-4bfa-dcff-7c9bd5789ce6"
      },
      "source": [
        "# absolute frequencies (count)\n",
        "df_clean.room_type.value_counts()"
      ],
      "execution_count": null,
      "outputs": [
        {
          "output_type": "execute_result",
          "data": {
            "text/plain": [
              "Entire home/apt    17970\n",
              "Private room        5411\n",
              "Shared room          448\n",
              "Hotel room            45\n",
              "Name: room_type, dtype: int64"
            ]
          },
          "metadata": {},
          "execution_count": 15
        }
      ]
    },
    {
      "cell_type": "code",
      "metadata": {
        "id": "EvwoO-XAHhIm",
        "colab": {
          "base_uri": "https://localhost:8080/"
        },
        "outputId": "2884ba67-a2f5-4f91-928a-93c40c58b607"
      },
      "source": [
        "# relative frequencies (%)\n",
        "relat_freq = (df_clean.room_type.value_counts() / df_clean.shape[0]) * 100\n",
        "print(relat_freq)\n"
      ],
      "execution_count": null,
      "outputs": [
        {
          "output_type": "stream",
          "name": "stdout",
          "text": [
            "Entire home/apt    75.270168\n",
            "Private room       22.664824\n",
            "Shared room         1.876518\n",
            "Hotel room          0.188490\n",
            "Name: room_type, dtype: float64\n"
          ]
        }
      ]
    },
    {
      "cell_type": "markdown",
      "metadata": {
        "id": "MFa5NbnLJMcd"
      },
      "source": [
        "### **Q6. What is the most expensive neighborhood?**\n",
        "\n"
      ]
    },
    {
      "cell_type": "code",
      "metadata": {
        "id": "MD_xa143JZpi",
        "colab": {
          "base_uri": "https://localhost:8080/"
        },
        "outputId": "def6c358-6e2d-4e19-ea1c-91c0e606d7e4"
      },
      "source": [
        "# the mean prices\n",
        "df_clean.groupby(['neighbourhood']).price.mean().sort_values(ascending=False)[:10]"
      ],
      "execution_count": null,
      "outputs": [
        {
          "output_type": "execute_result",
          "data": {
            "text/plain": [
              "neighbourhood\n",
              "Caju                      1123.000000\n",
              "Ricardo de Albuquerque     952.000000\n",
              "Complexo do Alemão         900.000000\n",
              "Leblon                     808.280040\n",
              "Anchieta                   800.000000\n",
              "Ipanema                    784.733202\n",
              "Lagoa                      722.697143\n",
              "Barra da Tijuca            698.632951\n",
              "São Conrado                687.444444\n",
              "Gávea                      666.564935\n",
              "Name: price, dtype: float64"
            ]
          },
          "metadata": {},
          "execution_count": 23
        }
      ]
    },
    {
      "cell_type": "markdown",
      "source": [
        "Who live in Brazil, even don't know Rio de Janiero knows that 'Complexo do Alemão\" is not a richest place there, so why it is the 3rd most expensive mean among the neighbourhood? \n",
        "\n",
        "Let's see this neighbourhood deeply:"
      ],
      "metadata": {
        "id": "gU-uwVhNzDCy"
      }
    },
    {
      "cell_type": "code",
      "metadata": {
        "id": "UxVJqJ_3W59I",
        "colab": {
          "base_uri": "https://localhost:8080/"
        },
        "outputId": "d1305e65-814a-4a5e-9a96-3a9a79005443"
      },
      "source": [
        "# How many accomodations have on 'Complexo do Alemão' neighbourhood\n",
        "print(df[df.neighbourhood == \"Complexo do Alemão\"].shape)\n",
        "\n",
        "\n"
      ],
      "execution_count": null,
      "outputs": [
        {
          "output_type": "stream",
          "name": "stdout",
          "text": [
            "(1, 18)\n"
          ]
        }
      ]
    },
    {
      "cell_type": "code",
      "source": [
        "# So, let's see how much cost this 1 accomodation\n",
        "df[df.neighbourhood == \"Complexo do Alemão\"]"
      ],
      "metadata": {
        "colab": {
          "base_uri": "https://localhost:8080/",
          "height": 197
        },
        "id": "3XBOh_xhzfQg",
        "outputId": "a9f45928-d658-4c3e-8710-bda169eb50ea"
      },
      "execution_count": null,
      "outputs": [
        {
          "output_type": "execute_result",
          "data": {
            "text/plain": [
              "             id                name    host_id host_name  neighbourhood_group  \\\n",
              "16700  21448656  Casa 1 quarto alem  155642978    Felipe                  NaN   \n",
              "\n",
              "            neighbourhood  latitude  longitude    room_type  price  \\\n",
              "16700  Complexo do Alemão -22.85998  -43.27476  Shared room    900   \n",
              "\n",
              "       minimum_nights  number_of_reviews last_review  reviews_per_month  \\\n",
              "16700               1                  1  2017-11-28               0.02   \n",
              "\n",
              "       calculated_host_listings_count  availability_365  \\\n",
              "16700                               1               365   \n",
              "\n",
              "       number_of_reviews_ltm  license  \n",
              "16700                      0      NaN  "
            ],
            "text/html": [
              "\n",
              "  <div id=\"df-89b0051d-2c21-4ecc-be35-2a870ced7da6\">\n",
              "    <div class=\"colab-df-container\">\n",
              "      <div>\n",
              "<style scoped>\n",
              "    .dataframe tbody tr th:only-of-type {\n",
              "        vertical-align: middle;\n",
              "    }\n",
              "\n",
              "    .dataframe tbody tr th {\n",
              "        vertical-align: top;\n",
              "    }\n",
              "\n",
              "    .dataframe thead th {\n",
              "        text-align: right;\n",
              "    }\n",
              "</style>\n",
              "<table border=\"1\" class=\"dataframe\">\n",
              "  <thead>\n",
              "    <tr style=\"text-align: right;\">\n",
              "      <th></th>\n",
              "      <th>id</th>\n",
              "      <th>name</th>\n",
              "      <th>host_id</th>\n",
              "      <th>host_name</th>\n",
              "      <th>neighbourhood_group</th>\n",
              "      <th>neighbourhood</th>\n",
              "      <th>latitude</th>\n",
              "      <th>longitude</th>\n",
              "      <th>room_type</th>\n",
              "      <th>price</th>\n",
              "      <th>minimum_nights</th>\n",
              "      <th>number_of_reviews</th>\n",
              "      <th>last_review</th>\n",
              "      <th>reviews_per_month</th>\n",
              "      <th>calculated_host_listings_count</th>\n",
              "      <th>availability_365</th>\n",
              "      <th>number_of_reviews_ltm</th>\n",
              "      <th>license</th>\n",
              "    </tr>\n",
              "  </thead>\n",
              "  <tbody>\n",
              "    <tr>\n",
              "      <th>16700</th>\n",
              "      <td>21448656</td>\n",
              "      <td>Casa 1 quarto alem</td>\n",
              "      <td>155642978</td>\n",
              "      <td>Felipe</td>\n",
              "      <td>NaN</td>\n",
              "      <td>Complexo do Alemão</td>\n",
              "      <td>-22.85998</td>\n",
              "      <td>-43.27476</td>\n",
              "      <td>Shared room</td>\n",
              "      <td>900</td>\n",
              "      <td>1</td>\n",
              "      <td>1</td>\n",
              "      <td>2017-11-28</td>\n",
              "      <td>0.02</td>\n",
              "      <td>1</td>\n",
              "      <td>365</td>\n",
              "      <td>0</td>\n",
              "      <td>NaN</td>\n",
              "    </tr>\n",
              "  </tbody>\n",
              "</table>\n",
              "</div>\n",
              "      <button class=\"colab-df-convert\" onclick=\"convertToInteractive('df-89b0051d-2c21-4ecc-be35-2a870ced7da6')\"\n",
              "              title=\"Convert this dataframe to an interactive table.\"\n",
              "              style=\"display:none;\">\n",
              "        \n",
              "  <svg xmlns=\"http://www.w3.org/2000/svg\" height=\"24px\"viewBox=\"0 0 24 24\"\n",
              "       width=\"24px\">\n",
              "    <path d=\"M0 0h24v24H0V0z\" fill=\"none\"/>\n",
              "    <path d=\"M18.56 5.44l.94 2.06.94-2.06 2.06-.94-2.06-.94-.94-2.06-.94 2.06-2.06.94zm-11 1L8.5 8.5l.94-2.06 2.06-.94-2.06-.94L8.5 2.5l-.94 2.06-2.06.94zm10 10l.94 2.06.94-2.06 2.06-.94-2.06-.94-.94-2.06-.94 2.06-2.06.94z\"/><path d=\"M17.41 7.96l-1.37-1.37c-.4-.4-.92-.59-1.43-.59-.52 0-1.04.2-1.43.59L10.3 9.45l-7.72 7.72c-.78.78-.78 2.05 0 2.83L4 21.41c.39.39.9.59 1.41.59.51 0 1.02-.2 1.41-.59l7.78-7.78 2.81-2.81c.8-.78.8-2.07 0-2.86zM5.41 20L4 18.59l7.72-7.72 1.47 1.35L5.41 20z\"/>\n",
              "  </svg>\n",
              "      </button>\n",
              "      \n",
              "  <style>\n",
              "    .colab-df-container {\n",
              "      display:flex;\n",
              "      flex-wrap:wrap;\n",
              "      gap: 12px;\n",
              "    }\n",
              "\n",
              "    .colab-df-convert {\n",
              "      background-color: #E8F0FE;\n",
              "      border: none;\n",
              "      border-radius: 50%;\n",
              "      cursor: pointer;\n",
              "      display: none;\n",
              "      fill: #1967D2;\n",
              "      height: 32px;\n",
              "      padding: 0 0 0 0;\n",
              "      width: 32px;\n",
              "    }\n",
              "\n",
              "    .colab-df-convert:hover {\n",
              "      background-color: #E2EBFA;\n",
              "      box-shadow: 0px 1px 2px rgba(60, 64, 67, 0.3), 0px 1px 3px 1px rgba(60, 64, 67, 0.15);\n",
              "      fill: #174EA6;\n",
              "    }\n",
              "\n",
              "    [theme=dark] .colab-df-convert {\n",
              "      background-color: #3B4455;\n",
              "      fill: #D2E3FC;\n",
              "    }\n",
              "\n",
              "    [theme=dark] .colab-df-convert:hover {\n",
              "      background-color: #434B5C;\n",
              "      box-shadow: 0px 1px 3px 1px rgba(0, 0, 0, 0.15);\n",
              "      filter: drop-shadow(0px 1px 2px rgba(0, 0, 0, 0.3));\n",
              "      fill: #FFFFFF;\n",
              "    }\n",
              "  </style>\n",
              "\n",
              "      <script>\n",
              "        const buttonEl =\n",
              "          document.querySelector('#df-89b0051d-2c21-4ecc-be35-2a870ced7da6 button.colab-df-convert');\n",
              "        buttonEl.style.display =\n",
              "          google.colab.kernel.accessAllowed ? 'block' : 'none';\n",
              "\n",
              "        async function convertToInteractive(key) {\n",
              "          const element = document.querySelector('#df-89b0051d-2c21-4ecc-be35-2a870ced7da6');\n",
              "          const dataTable =\n",
              "            await google.colab.kernel.invokeFunction('convertToInteractive',\n",
              "                                                     [key], {});\n",
              "          if (!dataTable) return;\n",
              "\n",
              "          const docLinkHtml = 'Like what you see? Visit the ' +\n",
              "            '<a target=\"_blank\" href=https://colab.research.google.com/notebooks/data_table.ipynb>data table notebook</a>'\n",
              "            + ' to learn more about interactive tables.';\n",
              "          element.innerHTML = '';\n",
              "          dataTable['output_type'] = 'display_data';\n",
              "          await google.colab.output.renderOutput(dataTable, element);\n",
              "          const docLink = document.createElement('div');\n",
              "          docLink.innerHTML = docLinkHtml;\n",
              "          element.appendChild(docLink);\n",
              "        }\n",
              "      </script>\n",
              "    </div>\n",
              "  </div>\n",
              "  "
            ]
          },
          "metadata": {},
          "execution_count": 27
        }
      ]
    },
    {
      "cell_type": "markdown",
      "source": [
        "Now we can see that there is only 1 accomodation in 'Complexo do Alemão' with the price of 900, so this is the explanation for a mean price so 'expensive'."
      ],
      "metadata": {
        "id": "iYAFSLPTzoT4"
      }
    },
    {
      "cell_type": "markdown",
      "metadata": {
        "id": "vTneAMRUYvr1"
      },
      "source": [
        "### **Q7. What is the minimum nights mean (minimum_nights)?**"
      ]
    },
    {
      "cell_type": "code",
      "metadata": {
        "id": "_VzNhrEgY82N",
        "colab": {
          "base_uri": "https://localhost:8080/"
        },
        "outputId": "75088762-cbba-4545-8d79-a66a95e3eb9f"
      },
      "source": [
        "# `minimum_nights` median\n",
        "df_clean.minimum_nights.mean()"
      ],
      "execution_count": null,
      "outputs": [
        {
          "output_type": "execute_result",
          "data": {
            "text/plain": [
              "3.3177934154310127"
            ]
          },
          "metadata": {},
          "execution_count": 22
        }
      ]
    },
    {
      "cell_type": "markdown",
      "metadata": {
        "id": "GkvAg623RjoR"
      },
      "source": [
        "## Conclusões\n"
      ]
    },
    {
      "cell_type": "markdown",
      "metadata": {
        "id": "rbZ3Hsy9Ypw8"
      },
      "source": [
        "It was possible to identify that there are outliers in some of the variables\n",
        "\n",
        "In some neighborhoods, we can notice that are few accommodations available, which can distort the statistical information, mainly if you use the mean as a measure.\n",
        "\n",
        "There were any strong correlations between the variables that could be used to explain something important in the data\n",
        "\n",
        "This is just a simple analysis of the dataset, a more deeply analysis should be done to have more specific answers."
      ]
    },
    {
      "cell_type": "code",
      "source": [],
      "metadata": {
        "id": "8xjJhfMj1hVC"
      },
      "execution_count": null,
      "outputs": []
    }
  ]
}